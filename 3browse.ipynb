{
 "cells": [
  {
   "cell_type": "code",
   "execution_count": 1,
   "id": "ec33b7f1-97e3-424d-aee5-22ab319be139",
   "metadata": {},
   "outputs": [
    {
     "name": "stdout",
     "output_type": "stream",
     "text": [
      "帳號              登入時間                \n",
      "=============== ====================\n",
      "jess1           2021-11-23 03:33:22 \n",
      "jess1           2021-11-23 03:33:45 \n",
      "jess1           2021-11-23 03:38:15 \n",
      "jess1           2021-11-23 03:38:33 \n",
      "jess1           2021-11-23 03:39:22 \n",
      "tan             2021-11-23 22:53:32 \n",
      "tan             2021-11-23 22:55:29 \n",
      "jess1           2021-11-23 23:00:10 \n",
      "jess1           2021-11-23 23:00:23 \n",
      "jess1           2021-11-23 23:00:35 \n",
      "jess1           2021-11-23 23:03:32 \n"
     ]
    }
   ],
   "source": [
    "import pymysql\n",
    "\n",
    "conn = pymysql.connect(host='127.0.0.1',\n",
    "                       port=3306,\n",
    "                       user='user1',\n",
    "                       passwd='12345',\n",
    "                       db='member_db')  #連接資料庫\n",
    "cursor = conn.cursor()\n",
    "sqlstr = 'SELECT * FROM login'  #讀取登入資料表\n",
    "cursor.execute(sqlstr)\n",
    "rows = cursor.fetchall()  #取得登入資料\n",
    "print('%-15s %-20s' % ('帳號','登入時間'))\n",
    "print('=============== ====================')\n",
    "for row in rows:  \n",
    "    print('%-15s %-20s' % (row[0], row[1]))\n",
    "\n",
    "conn.close()"
   ]
  },
  {
   "cell_type": "code",
   "execution_count": null,
   "id": "a505d7c8-dc74-4a19-a8d9-23f4298d7df8",
   "metadata": {},
   "outputs": [],
   "source": []
  }
 ],
 "metadata": {
  "kernelspec": {
   "display_name": "Python 3",
   "language": "python",
   "name": "python3"
  },
  "language_info": {
   "codemirror_mode": {
    "name": "ipython",
    "version": 3
   },
   "file_extension": ".py",
   "mimetype": "text/x-python",
   "name": "python",
   "nbconvert_exporter": "python",
   "pygments_lexer": "ipython3",
   "version": "3.6.13"
  }
 },
 "nbformat": 4,
 "nbformat_minor": 5
}
