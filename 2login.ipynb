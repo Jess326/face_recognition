{
 "cells": [
  {
   "cell_type": "code",
   "execution_count": 4,
   "id": "4055e550-2357-437a-86e7-3d27ff232d52",
   "metadata": {},
   "outputs": [
    {
     "name": "stdout",
     "output_type": "stream",
     "text": [
      "登入成功！歡迎 jess1！\n"
     ]
    }
   ],
   "source": [
    "#取得人臉特徵點\n",
    "def getFeature(imgfile):\n",
    "    img = dlib.load_rgb_image(imgfile)  #讀取圖片\n",
    "    dets = detector(img, 1)\n",
    "    for det in dets:\n",
    "        shape = sp(img, det)  #特徵點偵測\n",
    "        feature = facerec.compute_face_descriptor(img, shape)  #取得128維特徵向量\n",
    "        return numpy.array(feature)  #轉換numpy array格式\n",
    "\n",
    "def compareimage(v, filepath):  #人臉比對\n",
    "    try:\n",
    "        v2 = getFeature(filepath)\n",
    "        dist = numpy.linalg.norm(v-v2)  # 計算歐式距離,越小越像\n",
    "        if dist < 0.3: \n",
    "            return True\n",
    "        else:\n",
    "            return False\n",
    "    except Exception:\n",
    "       # print(\"產生錯誤，無法識別！\")\n",
    "        return 0\n",
    "\n",
    "import cv2\n",
    "import pymysql\n",
    "import time\n",
    "from datetime import datetime\n",
    "import dlib, numpy\n",
    "from skimage import io\n",
    "\n",
    "predictor_path = \"shape_predictor_68_face_landmarks.dat\"  #人臉68特徵點模型\n",
    "face_rec_model_path = \"dlib_face_recognition_resnet_model_v1.dat\"  #人臉辨識模型\n",
    "detector = dlib.get_frontal_face_detector()  #偵測臉部正面\n",
    "sp = dlib.shape_predictor(predictor_path)  #讀入人臉特徵點模型\n",
    "facerec = dlib.face_recognition_model_v1(face_rec_model_path)  #讀入人臉辨識模型\n",
    "\n",
    "conn = pymysql.connect(host='127.0.0.1',\n",
    "                       port=3306,\n",
    "                       user='user1',\n",
    "                       passwd='12345',\n",
    "                       db='member_db')  #連接資料庫\n",
    "cursor = conn.cursor()\n",
    "sqlstr = 'SELECT * FROM member_info'  #讀取會員資料表\n",
    "cursor.execute(sqlstr)\n",
    "rows = cursor.fetchall()  #取得會員資料\n",
    "imagedict = {}  #會員帳號、檔名字典\n",
    "for row in rows:  \n",
    "    imagedict[row[0]] = 'memberPic/' + row[1]\n",
    "\n",
    "timenow = time.time()  #取得現在時間數值\n",
    "cv2.namedWindow(\"frame\")\n",
    "cap = cv2.VideoCapture(0)  #開啟cam\n",
    "while(cap.isOpened()):  #cam開啟成功\n",
    "    count = 5 - int(time.time() - timenow)  #倒數計時5秒\n",
    "    ret, img = cap.read()\n",
    "    if ret == True:\n",
    "        imgcopy = img.copy()  #複製影像\n",
    "        cv2.putText(imgcopy, str(count), (200,400), cv2.FONT_HERSHEY_SIMPLEX, 15, (0,0,255), 35)  #在複製影像上畫倒數秒數\n",
    "        cv2.imshow(\"frame\", imgcopy)  #顯示複製影像\n",
    "        k = cv2.waitKey(100)  #0.1秒讀鍵盤一次\n",
    "        if k == ord(\"z\") or k == ord(\"Z\") or count == 0:  #按「Z」鍵或倒數計時結束\n",
    "            cv2.imwrite(\"media/tem.jpg\", img)  #將影像存檔\n",
    "            break\n",
    "cap.release()  #關閉cam\n",
    "cv2.destroyWindow(\"frame\")\n",
    "\n",
    "success = False  #記錄登入是否成功\n",
    "v = getFeature(\"media/tem.jpg\")\n",
    "for img in imagedict:  #逐一比對會員圖片\n",
    "    if compareimage(v, imagedict[img]):  #判斷為同一人\n",
    "        print('登入成功！歡迎 ' + img + '！' )\n",
    "        success = True\n",
    "        savetime = str(datetime.now().strftime('%Y-%m-%d %H:%M:%S'))  #目前時刻字串\n",
    "        sqlstr = 'INSERT INTO login values(\"{}\",\"{}\")'.format(img, savetime)  #將帳號及現在時刻寫入資料表\n",
    "        cursor.execute(sqlstr)\n",
    "        conn.commit()\n",
    "        break\n",
    "if not success:  #登入失敗\n",
    "    print('登入失敗！你不是會員！')\n",
    "\n",
    "conn.close()"
   ]
  },
  {
   "cell_type": "code",
   "execution_count": null,
   "id": "7a84927e-39d8-4baa-bb2e-e4f1e5484b12",
   "metadata": {},
   "outputs": [],
   "source": []
  },
  {
   "cell_type": "code",
   "execution_count": null,
   "id": "edf0d059-6234-441b-bebb-023bb6fc3c9d",
   "metadata": {},
   "outputs": [],
   "source": []
  },
  {
   "cell_type": "code",
   "execution_count": null,
   "id": "24eaeee4-e8b5-42ac-9b0d-083d4dc70a54",
   "metadata": {},
   "outputs": [],
   "source": []
  }
 ],
 "metadata": {
  "kernelspec": {
   "display_name": "Python 3",
   "language": "python",
   "name": "python3"
  },
  "language_info": {
   "codemirror_mode": {
    "name": "ipython",
    "version": 3
   },
   "file_extension": ".py",
   "mimetype": "text/x-python",
   "name": "python",
   "nbconvert_exporter": "python",
   "pygments_lexer": "ipython3",
   "version": "3.6.13"
  }
 },
 "nbformat": 4,
 "nbformat_minor": 5
}
