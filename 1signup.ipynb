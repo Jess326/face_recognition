{
 "cells": [
  {
   "cell_type": "code",
   "execution_count": 2,
   "id": "ad25c1b3-a1b1-413c-9f22-68ffaee1677a",
   "metadata": {},
   "outputs": [
    {
     "name": "stdin",
     "output_type": "stream",
     "text": [
      "輸入帳號 (直接按「Enter」結束)： yellow\n"
     ]
    },
    {
     "name": "stdout",
     "output_type": "stream",
     "text": [
      "帳號建立成功！\n"
     ]
    },
    {
     "name": "stdin",
     "output_type": "stream",
     "text": [
      "輸入帳號 (直接按「Enter」結束)： \n"
     ]
    }
   ],
   "source": [
    "import cv2\n",
    "import pymysql\n",
    "\n",
    "conn = pymysql.connect(host='127.0.0.1',\n",
    "                       port=3306,\n",
    "                       user='user1',\n",
    "                       passwd='12345',\n",
    "                       db='member_db')  #連接資料庫\n",
    "cursor = conn.cursor()\n",
    "sqlstr = 'SELECT * FROM member_info'  #讀取會員資料表\n",
    "cursor.execute(sqlstr)\n",
    "rows = cursor.fetchall()  #取得會員資料\n",
    "member = []\n",
    "for row in rows:  #儲存所有會員帳號\n",
    "    member.append(row[0])\n",
    "while True:\n",
    "    memberid = input('輸入帳號 (直接按「Enter」結束)：')\n",
    "    if memberid == '':  #未輸入帳號就結束\n",
    "        break\n",
    "    elif memberid in member:  #帳號已存在\n",
    "        print('此帳號已存在，不可重複！')\n",
    "    else:  #建立帳號\n",
    "        picfile = memberid + '.jpg'  #會員圖片檔名稱\n",
    "        member.append(memberid)\n",
    "        cv2.namedWindow(\"frame\")\n",
    "        cap = cv2.VideoCapture(0)  #開啟cam\n",
    "        while(cap.isOpened()):  #如果cam已開啟\n",
    "            ret, img = cap.read()  #讀取影像\n",
    "            if ret == True:\n",
    "                cv2.imshow(\"frame\", img)  #顯示影像\n",
    "                k = cv2.waitKey(100)  #0.1秒檢查一次按鍵\n",
    "                if k == ord(\"z\") or k == ord(\"Z\"):  #按下「Z」鍵\n",
    "                    cv2.imwrite('memberPic/' + picfile, img)  #儲存影像\n",
    "                    break\n",
    "        cap.release()  #關閉cam\n",
    "        cv2.destroyWindow(\"frame\")\n",
    "        sqlstr = 'INSERT INTO member_info values(\"{}\",\"{}\")'.format(memberid, picfile)  #將帳號及影像檔名稱寫入資料表\n",
    "        cursor.execute(sqlstr)\n",
    "        conn.commit()\n",
    "        print('帳號建立成功！')\n",
    "\n",
    "conn.close()"
   ]
  },
  {
   "cell_type": "code",
   "execution_count": null,
   "id": "8ceb2002-8494-406d-a604-0d8eb83ead3e",
   "metadata": {},
   "outputs": [],
   "source": []
  }
 ],
 "metadata": {
  "kernelspec": {
   "display_name": "Python 3",
   "language": "python",
   "name": "python3"
  },
  "language_info": {
   "codemirror_mode": {
    "name": "ipython",
    "version": 3
   },
   "file_extension": ".py",
   "mimetype": "text/x-python",
   "name": "python",
   "nbconvert_exporter": "python",
   "pygments_lexer": "ipython3",
   "version": "3.6.13"
  }
 },
 "nbformat": 4,
 "nbformat_minor": 5
}
